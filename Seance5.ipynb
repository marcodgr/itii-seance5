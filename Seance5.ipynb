{
  "nbformat": 4,
  "nbformat_minor": 0,
  "metadata": {
    "colab": {
      "name": "Untitled0.ipynb",
      "provenance": [],
      "collapsed_sections": [],
      "authorship_tag": "ABX9TyOuTkaFwWKydXDQBOY0IR9V",
      "include_colab_link": true
    },
    "kernelspec": {
      "name": "python3",
      "display_name": "Python 3"
    }
  },
  "cells": [
    {
      "cell_type": "markdown",
      "metadata": {
        "id": "view-in-github",
        "colab_type": "text"
      },
      "source": [
        "<a href=\"https://colab.research.google.com/github/marcodgr/itii-seance5/blob/master/Seance5.ipynb\" target=\"_parent\"><img src=\"https://colab.research.google.com/assets/colab-badge.svg\" alt=\"Open In Colab\"/></a>"
      ]
    },
    {
      "cell_type": "code",
      "metadata": {
        "id": "VvFM0WC61qQr",
        "outputId": "7174751a-56f6-4d53-dcd6-5daaa619b180",
        "colab": {
          "base_uri": "https://localhost:8080/"
        }
      },
      "source": [
        "def f(x):\n",
        "  return 3*x*x*x+x*x-5\n",
        "  \n",
        "def TauxAcroissement(a,h):\n",
        "  return (f(h)-f(a))/(h-a)\n",
        "\n",
        "\n",
        "TauxAcroissement(0,1)\n"
      ],
      "execution_count": null,
      "outputs": [
        {
          "output_type": "execute_result",
          "data": {
            "text/plain": [
              "4.0"
            ]
          },
          "metadata": {
            "tags": []
          },
          "execution_count": 3
        }
      ]
    },
    {
      "cell_type": "code",
      "metadata": {
        "id": "X2xkPT2j8fQY"
      },
      "source": [
        "def f(x):\n",
        "  return (1+x)/(x-4)\n",
        "\n",
        "def Coeffdirecteur(a,b,p):\n",
        "  i=p\n",
        "  while(i<=abs(b-a)):\n",
        "    y=f(b)-f(a)\n",
        "    x=(b-a)\n",
        "    print(str(i) + \" : \" + str(y/x))\n",
        "    i = i+p\n",
        " \n",
        "\n",
        "\n",
        "\n",
        "#Coeffdirecteur(0,1,0.1)"
      ],
      "execution_count": null,
      "outputs": []
    },
    {
      "cell_type": "code",
      "metadata": {
        "id": "oDpvbSL-Av6p"
      },
      "source": [
        "def suiteIterative(n,U0):\n",
        "  i=0\n",
        "  Un=U0\n",
        "  while i<100:\n",
        "    Un=Un+n+1\n",
        "    print(\"Un = \" + str(Un))\n",
        "    i=i+1\n",
        "\n",
        "def suiteRecursive(n,Un, stop):\n",
        "  if(stop>0):\n",
        "    print(\"Un = \" + str(Un))\n",
        "    stop = stop-1\n",
        "    suite2(n,Un+n+1,stop)\n",
        "  \n",
        "#suiteIterative(1,4)\n",
        "#suiteRecursive(1,4,50)"
      ],
      "execution_count": null,
      "outputs": []
    },
    {
      "cell_type": "code",
      "metadata": {
        "id": "J_KseEVNDLsj",
        "outputId": "0a66929d-506e-4277-e894-851fb904566d",
        "colab": {
          "base_uri": "https://localhost:8080/"
        }
      },
      "source": [
        "def Tn(n):\n",
        "  return n*n-(n-1)*(n-1)\n",
        "\n",
        "def Sn(max):\n",
        "  i=0\n",
        "  res=0\n",
        "  while(i<=max):\n",
        "    res=res+Tn(i)\n",
        "    i=i+1\n",
        "  print(\"Sn : \"+ str(res))\n",
        "\n",
        "Sn(20)"
      ],
      "execution_count": null,
      "outputs": [
        {
          "output_type": "stream",
          "text": [
            "Sn : 399\n"
          ],
          "name": "stdout"
        }
      ]
    },
    {
      "cell_type": "code",
      "metadata": {
        "id": "zxw8gixlEIs_",
        "outputId": "2ffe577a-9278-4900-af8a-9deffca4e667",
        "colab": {
          "base_uri": "https://localhost:8080/"
        }
      },
      "source": [
        "def o(Un,e):\n",
        "  i=0\n",
        "  while(Un>e):\n",
        "    Un=0.5*Un\n",
        "    i=i+1\n",
        "  print(\"n = \" + str(i))\n",
        "o(5,0.001)\n"
      ],
      "execution_count": null,
      "outputs": [
        {
          "output_type": "stream",
          "text": [
            "n = 13\n"
          ],
          "name": "stdout"
        }
      ]
    },
    {
      "cell_type": "code",
      "metadata": {
        "id": "emcX5ZTKMzqA",
        "outputId": "fccb42e9-6967-4f3e-ca62-0404bd841b07",
        "colab": {
          "base_uri": "https://localhost:8080/"
        }
      },
      "source": [
        "def Un(eps):\n",
        "  Un=2\n",
        "  while(abs(Un-(Un+2/Un))> eps):\n",
        "    print(\"Un = \"+ str(Un))\n",
        "    Un= Un+2/Un\n",
        "  \n",
        "Un(0.1)\n",
        "  \n"
      ],
      "execution_count": null,
      "outputs": [
        {
          "output_type": "stream",
          "text": [
            "Un = 2\n",
            "Un = 3.0\n",
            "Un = 3.6666666666666665\n",
            "Un = 4.212121212121212\n",
            "Un = 4.686941356006104\n",
            "Un = 5.113658877751301\n",
            "Un = 5.5047682669015385\n",
            "Un = 5.868089646300082\n",
            "Un = 6.208916068619828\n",
            "Un = 6.531033484590081\n",
            "Un = 6.837263732026261\n",
            "Un = 7.129778410176213\n",
            "Un = 7.410292036959541\n",
            "Un = 7.680186933142419\n",
            "Un = 7.940597261355834\n",
            "Un = 8.192467483981696\n",
            "Un = 8.436594177668367\n",
            "Un = 8.67365666495666\n",
            "Un = 8.904239921506392\n",
            "Un = 9.128852018398502\n",
            "Un = 9.347937616014628\n",
            "Un = 9.561888551734787\n",
            "Un = 9.771052252940773\n",
            "Un = 9.975738498416337\n",
            "Un = 10.176224908552038\n",
            "Un = 10.372761445231689\n",
            "Un = 10.565574131666253\n",
            "Un = 10.754868151572447\n",
            "Un = 10.940830449930106\n",
            "Un = 11.123631930051094\n",
            "Un = 11.303429321098966\n",
            "Un = 11.480366774608477\n",
            "Un = 11.654577236631647\n",
            "Un = 11.826183632933503\n",
            "Un = 11.995299897493307\n",
            "Un = 12.162031868939719\n",
            "Un = 12.32647807509609\n",
            "Un = 12.488730422264151\n",
            "Un = 12.64887480302799\n",
            "Un = 12.806991634061943\n",
            "Un = 12.963156333559422\n",
            "Un = 13.117439746374735\n",
            "Un = 13.269908523717717\n",
            "Un = 13.42062546320719\n",
            "Un = 13.569649814231887\n",
            "Un = 13.717037552852997\n",
            "Un = 13.862841629884485\n",
            "Un = 14.007112195284911\n",
            "Un = 14.14989680157037\n",
            "Un = 14.291240588599123\n",
            "Un = 14.431186451773208\n",
            "Un = 14.569775195441906\n",
            "Un = 14.707045673069159\n",
            "Un = 14.843034915535599\n",
            "Un = 14.977778248781192\n",
            "Un = 15.111309401852091\n",
            "Un = 15.24366060629205\n",
            "Un = 15.374862687711683\n",
            "Un = 15.504945150275626\n",
            "Un = 15.633936254766212\n",
            "Un = 15.761863090811119\n",
            "Un = 15.88875164379988\n",
            "Un = 16.014626856959275\n",
            "Un = 16.139512689009173\n",
            "Un = 16.263432167777697\n",
            "Un = 16.386407440116738\n",
            "Un = 16.50845981842534\n",
            "Un = 16.62960982405868\n",
            "Un = 16.749877227873924\n",
            "Un = 16.86928108814054\n",
            "Un = 16.987839786021627\n",
            "Un = 17.10557105881393\n",
            "Un = 17.222492031117245\n",
            "Un = 17.33861924408889\n",
            "Un = 17.45396868292508\n",
            "Un = 17.568555802698967\n",
            "Un = 17.682395552673906\n",
            "Un = 17.79550239920057\n",
            "Un = 17.90789034729749\n",
            "Un = 18.019572961006467\n",
            "Un = 18.1305633826068\n",
            "Un = 18.24087435076561\n",
            "Un = 18.350518217695488\n",
            "Un = 18.45950696538499\n",
            "Un = 18.56785222096253\n",
            "Un = 18.67556527124963\n",
            "Un = 18.782657076555193\n",
            "Un = 18.88913828375864\n",
            "Un = 18.99501923872627\n",
            "Un = 19.100309998101892\n",
            "Un = 19.205020340509883\n",
            "Un = 19.309159777206094\n",
            "Un = 19.412737562209507\n",
            "Un = 19.515762701945253\n",
            "Un = 19.618243964427535\n",
            "Un = 19.720189888008996\n",
            "Un = 19.821608789721303\n",
            "Un = 19.922508773230064\n"
          ],
          "name": "stdout"
        }
      ]
    }
  ]
}